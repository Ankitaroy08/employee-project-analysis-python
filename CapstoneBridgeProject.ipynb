{
 "cells": [
  {
   "cell_type": "code",
   "execution_count": 3,
   "id": "533a0bd2-4e9f-4f8d-807a-ae53fd52e494",
   "metadata": {},
   "outputs": [],
   "source": [
    "import pandas as pd\n",
    "import numpy as np"
   ]
  },
  {
   "cell_type": "markdown",
   "id": "f7062a10-b766-4205-87b6-85fc1082522f",
   "metadata": {},
   "source": [
    "__Task-1__"
   ]
  },
  {
   "cell_type": "code",
   "execution_count": 5,
   "id": "86cc11ec-258e-421e-9bf4-47a7dd9761bc",
   "metadata": {},
   "outputs": [
    {
     "name": "stdout",
     "output_type": "stream",
     "text": [
      "     ID             Name Gender     City  Age\n",
      "0  A001       John Alter      M    Paris   25\n",
      "1  A002  Alice Luxumberg      F   London   27\n",
      "2  A003    Tom Sabestine      M   Berlin   29\n",
      "3  A004       Nina Adgra      F  Newyork   31\n",
      "4  A005        Amy Johny      F   Madrid   30\n"
     ]
    }
   ],
   "source": [
    "import pandas as pd\n",
    "data = {'ID':['A001','A002','A003','A004','A005'],\n",
    "        'Name':['John Alter','Alice Luxumberg','Tom Sabestine','Nina Adgra','Amy Johny'],\n",
    "        'Gender':['M','F','M','F','F'],\n",
    "        'City':['Paris','London','Berlin','Newyork','Madrid'],\n",
    "        'Age':[25,27,29,31,30]}\n",
    "df = pd.DataFrame(data)\n",
    "df.to_csv(\"Employee.csv\",index=False)\n",
    "print(df)"
   ]
  },
  {
   "cell_type": "code",
   "execution_count": 7,
   "id": "67752735-5686-478d-97f9-912b313dafff",
   "metadata": {},
   "outputs": [
    {
     "name": "stdout",
     "output_type": "stream",
     "text": [
      "      ID     Project       Cost    Status\n",
      "0   A001   Project 1   100200.0  Finished\n",
      "1   A002   Project 2  2000000.0   Ongoing\n",
      "2   A003   Project 3  4500000.0  Finished\n",
      "3   A004   Project 4  5500000.0   Ongoing\n",
      "4   A005   Project 5        NaN  Finished\n",
      "5   A002   Project 6   680000.0    Failed\n",
      "6   A005   Project 7   400000.0  Finished\n",
      "7   A003   Project 8   350000.0    Failed\n",
      "8   A001   Project 9        NaN   Ongoing\n",
      "9   A003  Project 10   300000.0  Finished\n",
      "10  A001  Project 11  2000000.0    Failed\n",
      "11  A004  Project 12  1000000.0   Ongoing\n",
      "12  A004  Project 13  3000000.0  Finished\n",
      "13  A005  Project 14   200000.0  Finished\n"
     ]
    }
   ],
   "source": [
    "data_1 = {'ID':['A001','A002','A003','A004','A005','A002','A005','A003','A001','A003','A001','A004','A004','A005'],\n",
    "          'Project':['Project 1','Project 2','Project 3','Project 4','Project 5','Project 6',\n",
    "                     'Project 7','Project 8','Project 9','Project 10','Project 11','Project 12','Project 13','Project 14'],\n",
    "          'Cost':[100200,2000000,4500000,5500000,None,680000,400000,350000,None,300000,2000000,1000000,3000000,200000],\n",
    "          'Status':['Finished','Ongoing','Finished','Ongoing','Finished','Failed','Finished','Failed','Ongoing','Finished','Failed','Ongoing','Finished','Finished']}\n",
    "df_1 = pd.DataFrame(data_1)\n",
    "df_1.to_csv(\"Project.csv\",index=False)\n",
    "print(df_1)"
   ]
  },
  {
   "cell_type": "code",
   "execution_count": 9,
   "id": "b6a3a193-5748-46c1-a1ed-39944dc61b02",
   "metadata": {},
   "outputs": [
    {
     "name": "stdout",
     "output_type": "stream",
     "text": [
      "     ID  Designation Level\n",
      "0  A001                  2\n",
      "1  A002                  2\n",
      "2  A003                  3\n",
      "3  A004                  2\n",
      "4  A005                  3\n"
     ]
    }
   ],
   "source": [
    "import pandas as pd\n",
    "data = {'ID':['A001','A002','A003','A004','A005'],'Designation Level':[2,2,3,2,3]}\n",
    "df = pd.DataFrame(data)\n",
    "print(df)\n",
    "df.to_csv(\"Seniority.csv\",index=False)"
   ]
  },
  {
   "cell_type": "markdown",
   "id": "2418a53a-885a-40d9-b2e6-2eea2b4bafd1",
   "metadata": {},
   "source": [
    "__Task-2__"
   ]
  },
  {
   "cell_type": "code",
   "execution_count": 13,
   "id": "cc1d1664-44c7-49a5-99a0-e8e4b34e2476",
   "metadata": {},
   "outputs": [
    {
     "name": "stdout",
     "output_type": "stream",
     "text": [
      "      ID     Project        Cost    Status\n",
      "0   A001   Project 1   100200.00  Finished\n",
      "1   A002   Project 2  2000000.00   Ongoing\n",
      "2   A003   Project 3  4500000.00  Finished\n",
      "3   A004   Project 4  5500000.00   Ongoing\n",
      "4   A005   Project 5  3025050.00  Finished\n",
      "5   A002   Project 6   680000.00    Failed\n",
      "6   A005   Project 7   400000.00  Finished\n",
      "7   A003   Project 8   350000.00    Failed\n",
      "8   A001   Project 9  2069406.25   Ongoing\n",
      "9   A003  Project 10   300000.00  Finished\n",
      "10  A001  Project 11  2000000.00    Failed\n",
      "11  A004  Project 12  1000000.00   Ongoing\n",
      "12  A004  Project 13  3000000.00  Finished\n",
      "13  A005  Project 14   200000.00  Finished\n"
     ]
    }
   ],
   "source": [
    "file = pd.read_csv(\"Project.csv\")\n",
    "for i in range(len(file)):\n",
    "    if pd.isna(file.loc[i,'Cost']):\n",
    "        prev_val = file.loc[:i-1,'Cost'].dropna()\n",
    "        if not prev_val.empty:\n",
    "            avg = prev_val.mean()\n",
    "        else:\n",
    "            avg = 0\n",
    "        file.loc[i, 'Cost'] = avg\n",
    "file.to_csv('Task2.csv', index=False)\n",
    "print(file)"
   ]
  },
  {
   "cell_type": "markdown",
   "id": "62a61e07-f940-4d43-b615-f32cb8058156",
   "metadata": {},
   "source": [
    "__Task-3__"
   ]
  },
  {
   "cell_type": "code",
   "execution_count": 116,
   "id": "5b0e5531-17fb-4dce-b9c1-b4f9e063eef5",
   "metadata": {},
   "outputs": [
    {
     "name": "stdout",
     "output_type": "stream",
     "text": [
      "     ID Gender     City  Age First Name  Last Name\n",
      "0  A001      M    Paris   25       John      Alter\n",
      "1  A002      F   London   27      Alice  Luxumberg\n",
      "2  A003      M   Berlin   29        Tom  Sabestine\n",
      "3  A004      F  Newyork   31       Nina      Adgra\n",
      "4  A005      F   Madrid   30        Amy      Johny\n"
     ]
    }
   ],
   "source": [
    "df=pd.read_csv('Employee.csv')\n",
    "df[['First Name','Last Name']]=df['Name'].str.split(' ',n=1,expand=True)\n",
    "df.drop(columns=['Name'], inplace=True)\n",
    "df.to_csv(\"updated.csv\",index=False)\n",
    "print(df)"
   ]
  },
  {
   "cell_type": "markdown",
   "id": "a09e0378-fb56-4027-a3f7-ead221b6056c",
   "metadata": {},
   "source": [
    "__Task-4__"
   ]
  },
  {
   "cell_type": "code",
   "execution_count": 166,
   "id": "361d68f3-3e62-4d7e-a562-2fe0ba80312b",
   "metadata": {},
   "outputs": [
    {
     "name": "stdout",
     "output_type": "stream",
     "text": [
      "      ID     Project        Cost    Status Gender     City  Age First Name  \\\n",
      "0   A001   Project 1   100200.00  Finished      M    Paris   25       John   \n",
      "1   A002   Project 2  2000000.00   Ongoing      F   London   27      Alice   \n",
      "2   A003   Project 3  4500000.00  Finished      M   Berlin   29        Tom   \n",
      "3   A004   Project 4  5500000.00   Ongoing      F  Newyork   31       Nina   \n",
      "4   A005   Project 5  3025050.00  Finished      F   Madrid   30        Amy   \n",
      "5   A002   Project 6   680000.00    Failed      F   London   27      Alice   \n",
      "6   A005   Project 7   400000.00  Finished      F   Madrid   30        Amy   \n",
      "7   A003   Project 8   350000.00    Failed      M   Berlin   29        Tom   \n",
      "8   A001   Project 9  2069406.25   Ongoing      M    Paris   25       John   \n",
      "9   A003  Project 10   300000.00  Finished      M   Berlin   29        Tom   \n",
      "10  A001  Project 11  2000000.00    Failed      M    Paris   25       John   \n",
      "11  A004  Project 12  1000000.00   Ongoing      F  Newyork   31       Nina   \n",
      "12  A004  Project 13  3000000.00  Finished      F  Newyork   31       Nina   \n",
      "13  A005  Project 14   200000.00  Finished      F   Madrid   30        Amy   \n",
      "\n",
      "    Last Name  Designation Level  \n",
      "0       Alter                  2  \n",
      "1   Luxumberg                  2  \n",
      "2   Sabestine                  3  \n",
      "3       Adgra                  2  \n",
      "4       Johny                  3  \n",
      "5   Luxumberg                  2  \n",
      "6       Johny                  3  \n",
      "7   Sabestine                  3  \n",
      "8       Alter                  2  \n",
      "9   Sabestine                  3  \n",
      "10      Alter                  2  \n",
      "11      Adgra                  2  \n",
      "12      Adgra                  2  \n",
      "13      Johny                  3  \n"
     ]
    }
   ],
   "source": [
    "df1 = pd.read_csv('updated.csv')      # Basic info\n",
    "df2 = pd.read_csv('Task2.csv')        # Project info\n",
    "df3 = pd.read_csv('Seniority.csv')    # Designation info\n",
    "merged1 = pd.merge(df2, df1, on='ID', how='left')\n",
    "Final = pd.merge(merged1, df3, on='ID', how='left')\n",
    "Final.to_csv(\"Final.csv\", index=False)\n",
    "print(Final)"
   ]
  },
  {
   "cell_type": "markdown",
   "id": "c2438d61-17f3-413c-8bf7-0c6b2deb148f",
   "metadata": {},
   "source": [
    "__Task-5__"
   ]
  },
  {
   "cell_type": "code",
   "execution_count": 152,
   "id": "52e066b1-b67a-45b5-8a79-23c3eb088b23",
   "metadata": {},
   "outputs": [
    {
     "name": "stdout",
     "output_type": "stream",
     "text": [
      "      ID     Project        Cost    Status Gender     City  Age First Name  \\\n",
      "0   A001   Project 1   100200.00  Finished      M    Paris   25       John   \n",
      "1   A002   Project 2  2000000.00   Ongoing      F   London   27      Alice   \n",
      "2   A003   Project 3  4500000.00  Finished      M   Berlin   29        Tom   \n",
      "3   A004   Project 4  5500000.00   Ongoing      F  Newyork   31       Nina   \n",
      "4   A005   Project 5  3025050.00  Finished      F   Madrid   30        Amy   \n",
      "5   A002   Project 6   680000.00    Failed      F   London   27      Alice   \n",
      "6   A005   Project 7   400000.00  Finished      F   Madrid   30        Amy   \n",
      "7   A003   Project 8   350000.00    Failed      M   Berlin   29        Tom   \n",
      "8   A001   Project 9  2069406.25   Ongoing      M    Paris   25       John   \n",
      "9   A003  Project 10   300000.00  Finished      M   Berlin   29        Tom   \n",
      "10  A001  Project 11  2000000.00    Failed      M    Paris   25       John   \n",
      "11  A004  Project 12  1000000.00   Ongoing      F  Newyork   31       Nina   \n",
      "12  A004  Project 13  3000000.00  Finished      F  Newyork   31       Nina   \n",
      "13  A005  Project 14   200000.00  Finished      F   Madrid   30        Amy   \n",
      "\n",
      "    Last Name  Designation Level     Bonus  \n",
      "0       Alter                  2    5010.0  \n",
      "1   Luxumberg                  2       0.0  \n",
      "2   Sabestine                  3  225000.0  \n",
      "3       Adgra                  2       0.0  \n",
      "4       Johny                  3  151252.5  \n",
      "5   Luxumberg                  2       0.0  \n",
      "6       Johny                  3   20000.0  \n",
      "7   Sabestine                  3       0.0  \n",
      "8       Alter                  2       0.0  \n",
      "9   Sabestine                  3   15000.0  \n",
      "10      Alter                  2       0.0  \n",
      "11      Adgra                  2       0.0  \n",
      "12      Adgra                  2  150000.0  \n",
      "13      Johny                  3   10000.0  \n"
     ]
    }
   ],
   "source": [
    "Final=pd.read_csv('Final.csv')\n",
    "Final['Bonus']= Final.apply(lambda row: row['Cost']*0.05 if str(row['Status'])=='Finished' else 0,axis=1)\n",
    "print(Final)"
   ]
  },
  {
   "cell_type": "markdown",
   "id": "454d61d0-8a94-444d-8952-af17fa99a2ef",
   "metadata": {},
   "source": [
    "__Task-6__"
   ]
  },
  {
   "cell_type": "code",
   "execution_count": 154,
   "id": "0ef04f81-26b8-4ea7-b8f1-b13fe7681174",
   "metadata": {},
   "outputs": [
    {
     "name": "stdout",
     "output_type": "stream",
     "text": [
      "      ID     Project        Cost    Status Gender     City  Age First Name  \\\n",
      "0   A001   Project 1   100200.00  Finished      M    Paris   25       John   \n",
      "1   A002   Project 2  2000000.00   Ongoing      F   London   27      Alice   \n",
      "2   A003   Project 3  4500000.00  Finished      M   Berlin   29        Tom   \n",
      "3   A004   Project 4  5500000.00   Ongoing      F  Newyork   31       Nina   \n",
      "4   A005   Project 5  3025050.00  Finished      F   Madrid   30        Amy   \n",
      "5   A002   Project 6   680000.00    Failed      F   London   27      Alice   \n",
      "6   A005   Project 7   400000.00  Finished      F   Madrid   30        Amy   \n",
      "7   A003   Project 8   350000.00    Failed      M   Berlin   29        Tom   \n",
      "8   A001   Project 9  2069406.25   Ongoing      M    Paris   25       John   \n",
      "9   A003  Project 10   300000.00  Finished      M   Berlin   29        Tom   \n",
      "10  A001  Project 11  2000000.00    Failed      M    Paris   25       John   \n",
      "11  A004  Project 12  1000000.00   Ongoing      F  Newyork   31       Nina   \n",
      "12  A004  Project 13  3000000.00  Finished      F  Newyork   31       Nina   \n",
      "13  A005  Project 14   200000.00  Finished      F   Madrid   30        Amy   \n",
      "\n",
      "    Last Name  Designation Level  \n",
      "0       Alter                  2  \n",
      "1   Luxumberg                  2  \n",
      "2   Sabestine                  3  \n",
      "3       Adgra                  2  \n",
      "4       Johny                  3  \n",
      "5   Luxumberg                  3  \n",
      "6       Johny                  3  \n",
      "7   Sabestine                  4  \n",
      "8       Alter                  2  \n",
      "9   Sabestine                  3  \n",
      "10      Alter                  3  \n",
      "11      Adgra                  2  \n",
      "12      Adgra                  2  \n",
      "13      Johny                  3  \n"
     ]
    }
   ],
   "source": [
    "final=pd.read_csv('Final.csv')\n",
    "final.loc[final['Status'] == 'Failed', 'Designation Level'] += 1\n",
    "final = final[final['Designation Level'] <= 4]\n",
    "print(final)"
   ]
  },
  {
   "cell_type": "markdown",
   "id": "343ce0f5-67e1-487c-a994-51c594f14932",
   "metadata": {},
   "source": [
    "__Task-7__"
   ]
  },
  {
   "cell_type": "code",
   "execution_count": 174,
   "id": "7c9255a5-4537-45d2-9a42-b683fa132bf0",
   "metadata": {},
   "outputs": [
    {
     "name": "stdout",
     "output_type": "stream",
     "text": [
      "      ID     Project        Cost    Status     City  Age  First Name  \\\n",
      "0   A001   Project 1   100200.00  Finished    Paris   25    Mr. John   \n",
      "1   A002   Project 2  2000000.00   Ongoing   London   27  Mrs. Alice   \n",
      "2   A003   Project 3  4500000.00  Finished   Berlin   29     Mr. Tom   \n",
      "3   A004   Project 4  5500000.00   Ongoing  Newyork   31   Mrs. Nina   \n",
      "4   A005   Project 5  3025050.00  Finished   Madrid   30    Mrs. Amy   \n",
      "5   A002   Project 6   680000.00    Failed   London   27  Mrs. Alice   \n",
      "6   A005   Project 7   400000.00  Finished   Madrid   30    Mrs. Amy   \n",
      "7   A003   Project 8   350000.00    Failed   Berlin   29     Mr. Tom   \n",
      "8   A001   Project 9  2069406.25   Ongoing    Paris   25    Mr. John   \n",
      "9   A003  Project 10   300000.00  Finished   Berlin   29     Mr. Tom   \n",
      "10  A001  Project 11  2000000.00    Failed    Paris   25    Mr. John   \n",
      "11  A004  Project 12  1000000.00   Ongoing  Newyork   31   Mrs. Nina   \n",
      "12  A004  Project 13  3000000.00  Finished  Newyork   31   Mrs. Nina   \n",
      "13  A005  Project 14   200000.00  Finished   Madrid   30    Mrs. Amy   \n",
      "\n",
      "    Last Name  Designation Level  \n",
      "0       Alter                  2  \n",
      "1   Luxumberg                  2  \n",
      "2   Sabestine                  3  \n",
      "3       Adgra                  2  \n",
      "4       Johny                  3  \n",
      "5   Luxumberg                  2  \n",
      "6       Johny                  3  \n",
      "7   Sabestine                  3  \n",
      "8       Alter                  2  \n",
      "9   Sabestine                  3  \n",
      "10      Alter                  2  \n",
      "11      Adgra                  2  \n",
      "12      Adgra                  2  \n",
      "13      Johny                  3  \n"
     ]
    }
   ],
   "source": [
    "Final=pd.read_csv(\"Final.csv\")\n",
    "Final['First Name'] = Final['Gender'].str.strip().map({'M': 'Mr. ', 'F': 'Mrs. '}) + Final['First Name']\n",
    "Final.drop('Gender', axis=1, inplace=True)\n",
    "Final.to_csv(\"Final.csv\", index=False)\n",
    "print(Final)"
   ]
  },
  {
   "cell_type": "markdown",
   "id": "e78396e6-bf7c-427f-8f7e-8e075fd2edf1",
   "metadata": {},
   "source": [
    "__Task-8__"
   ]
  },
  {
   "cell_type": "code",
   "execution_count": 180,
   "id": "17c779a5-8aae-4204-bcf4-5bc389a3feaf",
   "metadata": {},
   "outputs": [
    {
     "name": "stdout",
     "output_type": "stream",
     "text": [
      "      ID     Project        Cost    Status Gender     City  Age First Name  \\\n",
      "0   A001   Project 1   100200.00  Finished      M    Paris   25       John   \n",
      "1   A002   Project 2  2000000.00   Ongoing      F   London   27      Alice   \n",
      "2   A003   Project 3  4500000.00  Finished      M   Berlin   29        Tom   \n",
      "3   A004   Project 4  5500000.00   Ongoing      F  Newyork   31       Nina   \n",
      "4   A005   Project 5  3025050.00  Finished      F   Madrid   30        Amy   \n",
      "5   A002   Project 6   680000.00    Failed      F   London   27      Alice   \n",
      "6   A005   Project 7   400000.00  Finished      F   Madrid   30        Amy   \n",
      "7   A003   Project 8   350000.00    Failed      M   Berlin   29        Tom   \n",
      "8   A001   Project 9  2069406.25   Ongoing      M    Paris   25       John   \n",
      "9   A003  Project 10   300000.00  Finished      M   Berlin   29        Tom   \n",
      "10  A001  Project 11  2000000.00    Failed      M    Paris   25       John   \n",
      "11  A004  Project 12  1000000.00   Ongoing      F  Newyork   31       Nina   \n",
      "12  A004  Project 13  3000000.00  Finished      F  Newyork   31       Nina   \n",
      "13  A005  Project 14   200000.00  Finished      F   Madrid   30        Amy   \n",
      "\n",
      "    Last Name  Designation Level  \n",
      "0       Alter                  2  \n",
      "1   Luxumberg                  2  \n",
      "2   Sabestine                  3  \n",
      "3       Adgra                  2  \n",
      "4       Johny                  3  \n",
      "5   Luxumberg                  3  \n",
      "6       Johny                  3  \n",
      "7   Sabestine                  4  \n",
      "8       Alter                  2  \n",
      "9   Sabestine                  3  \n",
      "10      Alter                  3  \n",
      "11      Adgra                  2  \n",
      "12      Adgra                  2  \n",
      "13      Johny                  3  \n"
     ]
    }
   ],
   "source": [
    "Final=pd.read_csv('Final.csv')\n",
    "for i in range(len(Final)):\n",
    "    if Final.loc[i, 'Age'] > 29:\n",
    "        Final.loc[i, 'Designation Level'] += 1\n",
    "print(final)\n"
   ]
  },
  {
   "cell_type": "markdown",
   "id": "1a3c195b-9b22-499a-ae3d-46a6d2e26813",
   "metadata": {},
   "source": [
    "__Task-9__"
   ]
  },
  {
   "cell_type": "code",
   "execution_count": 178,
   "id": "39e78ddb-7f97-49ef-aff0-fe3b08476c6a",
   "metadata": {},
   "outputs": [
    {
     "name": "stdout",
     "output_type": "stream",
     "text": [
      "     ID  First Name  Total cost\n",
      "0  A001    Mr. John  4169606.25\n",
      "1  A002  Mrs. Alice  2680000.00\n",
      "2  A003     Mr. Tom  5150000.00\n",
      "3  A004   Mrs. Nina  9500000.00\n",
      "4  A005    Mrs. Amy  3625050.00\n"
     ]
    }
   ],
   "source": [
    "Final = pd.read_csv(\"Final.csv\")\n",
    "Final['Cost'] = pd.to_numeric(Final['Cost'], errors='coerce')\n",
    "TotalProjCost = Final.groupby(['ID', 'First Name'])['Cost'].sum().reset_index()\n",
    "TotalProjCost.rename(columns={'Cost': 'Total cost'}, inplace=True)\n",
    "print(TotalProjCost)"
   ]
  },
  {
   "cell_type": "markdown",
   "id": "369e647d-492a-4cc7-9e6f-38393b62cfa8",
   "metadata": {},
   "source": [
    "__Task-10__"
   ]
  },
  {
   "cell_type": "code",
   "execution_count": 182,
   "id": "7100e56c-b059-4db7-a635-fbe01b463706",
   "metadata": {},
   "outputs": [
    {
     "name": "stdout",
     "output_type": "stream",
     "text": [
      "      ID     Project       Cost    Status     City  Age  First Name  \\\n",
      "1   A002   Project 2  2000000.0   Ongoing   London   27  Mrs. Alice   \n",
      "3   A004   Project 4  5500000.0   Ongoing  Newyork   31   Mrs. Nina   \n",
      "5   A002   Project 6   680000.0    Failed   London   27  Mrs. Alice   \n",
      "11  A004  Project 12  1000000.0   Ongoing  Newyork   31   Mrs. Nina   \n",
      "12  A004  Project 13  3000000.0  Finished  Newyork   31   Mrs. Nina   \n",
      "\n",
      "    Last Name  Designation Level  \n",
      "1   Luxumberg                  2  \n",
      "3       Adgra                  2  \n",
      "5   Luxumberg                  2  \n",
      "11      Adgra                  2  \n",
      "12      Adgra                  2  \n"
     ]
    }
   ],
   "source": [
    "Final = pd.read_csv(\"Final.csv\")\n",
    "employees_with_o = Final[Final['City'].str.contains('o', case=False)]\n",
    "print(employees_with_o)"
   ]
  },
  {
   "cell_type": "code",
   "execution_count": null,
   "id": "03955f13-498d-4f94-99ca-55f8cb5ed8b0",
   "metadata": {},
   "outputs": [],
   "source": []
  }
 ],
 "metadata": {
  "kernelspec": {
   "display_name": "Python 3 (ipykernel)",
   "language": "python",
   "name": "python3"
  },
  "language_info": {
   "codemirror_mode": {
    "name": "ipython",
    "version": 3
   },
   "file_extension": ".py",
   "mimetype": "text/x-python",
   "name": "python",
   "nbconvert_exporter": "python",
   "pygments_lexer": "ipython3",
   "version": "3.12.4"
  }
 },
 "nbformat": 4,
 "nbformat_minor": 5
}
